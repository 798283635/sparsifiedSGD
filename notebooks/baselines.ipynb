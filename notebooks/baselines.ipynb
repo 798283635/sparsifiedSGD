{
 "cells": [
  {
   "cell_type": "code",
   "execution_count": 1,
   "metadata": {},
   "outputs": [],
   "source": [
    "%load_ext autoreload\n",
    "%autoreload 2\n",
    "import sys\n",
    "sys.path.append(\"../\")"
   ]
  },
  {
   "cell_type": "code",
   "execution_count": 4,
   "metadata": {},
   "outputs": [
    {
     "name": "stdout",
     "output_type": "stream",
     "text": [
      "epsilon\n"
     ]
    },
    {
     "ename": "EOFError",
     "evalue": "Ran out of input",
     "output_type": "error",
     "traceback": [
      "\u001b[0;31m---------------------------------------------------------------------------\u001b[0m",
      "\u001b[0;31mEOFError\u001b[0m                                  Traceback (most recent call last)",
      "\u001b[0;32m<ipython-input-4-850746e08d99>\u001b[0m in \u001b[0;36m<module>\u001b[0;34m()\u001b[0m\n\u001b[1;32m     37\u001b[0m \u001b[0mprint\u001b[0m\u001b[0;34m(\u001b[0m\u001b[0;34m'epsilon'\u001b[0m\u001b[0;34m)\u001b[0m\u001b[0;34m\u001b[0m\u001b[0m\n\u001b[1;32m     38\u001b[0m \u001b[0;32mwith\u001b[0m \u001b[0mopen\u001b[0m\u001b[0;34m(\u001b[0m\u001b[0;34m'../data/eps_sub.pickle'\u001b[0m\u001b[0;34m,\u001b[0m \u001b[0;34m'rb'\u001b[0m\u001b[0;34m)\u001b[0m \u001b[0;32mas\u001b[0m \u001b[0mf\u001b[0m\u001b[0;34m:\u001b[0m\u001b[0;34m\u001b[0m\u001b[0m\n\u001b[0;32m---> 39\u001b[0;31m     \u001b[0mX\u001b[0m\u001b[0;34m,\u001b[0m \u001b[0my\u001b[0m \u001b[0;34m=\u001b[0m \u001b[0mpickle\u001b[0m\u001b[0;34m.\u001b[0m\u001b[0mload\u001b[0m\u001b[0;34m(\u001b[0m\u001b[0mf\u001b[0m\u001b[0;34m)\u001b[0m\u001b[0;34m\u001b[0m\u001b[0m\n\u001b[0m\u001b[1;32m     40\u001b[0m \u001b[0;34m\u001b[0m\u001b[0m\n\u001b[1;32m     41\u001b[0m \u001b[0;34m\u001b[0m\u001b[0m\n",
      "\u001b[0;31mEOFError\u001b[0m: Ran out of input"
     ]
    }
   ],
   "source": [
    "import argparse\n",
    "import os\n",
    "import pickle\n",
    "\n",
    "import numpy as np\n",
    "from sklearn.linear_model import SGDClassifier\n",
    "\n",
    "from utils import pickle_it\n",
    "\n",
    "\"\"\"Arguments\"\"\"\n",
    "\n",
    "\n",
    "baselines = {}\n",
    "\n",
    "\n",
    "def loss(clf, X, y, reg):\n",
    "    baseline_loss = np.sum(np.log(1 + np.exp(-y * (X @ clf.coef_.transpose()).squeeze()))) / X.shape[0]\n",
    "    baseline_loss += reg / 2 * np.sum(np.square(clf.coef_))\n",
    "    return baseline_loss\n",
    "\n",
    "\n",
    "# \"\"\" RCV1 test\"\"\"\n",
    "# print('RCV1-test')\n",
    "# with open(os.path.expanduser('/mlodata1/jb/data/rcv1-test-1.pickle'), 'rb') as f:\n",
    "#     X, y = pickle.load(f)\n",
    "\n",
    "# reg = 1 / X.shape[0]\n",
    "# clf = SGDClassifier(tol=1e-4, loss='log', penalty='l2', alpha=reg, fit_intercept=False)\n",
    "# clf.fit(X, y)\n",
    "# l = loss(clf, X, y, reg)\n",
    "# print(\"loss: {}\".format(l))\n",
    "# print(\"train accuracy: {}\".format(clf.score(X, y)))\n",
    "# baselines['RCV1-test'] = l\n",
    "\n",
    "\"\"\" EPSILON \"\"\"\n",
    "\n",
    "print('epsilon')\n",
    "with open('../data/eps_sub.pickle', 'rb') as f:\n",
    "    X, y = pickle.load(f)\n",
    "\n",
    "\n",
    "reg = 1 / 400000\n",
    "clf = SGDClassifier(tol=1e-4, loss='log', penalty='l2', alpha=reg)\n",
    "clf.fit(X, y)\n",
    "l = loss(clf, X, y, reg)\n",
    "print(\"loss: {}\".format(l))\n",
    "print(\"train accuracy: {}\".format(clf.score(X, y)))\n",
    "baselines['epsilon'] = l\n",
    "\n",
    "\"\"\" Pickle \"\"\"\n",
    "print('baselines', baselines)\n",
    "pickle_it(baselines, 'baselines', args.directory)"
   ]
  },
  {
   "cell_type": "code",
   "execution_count": 5,
   "metadata": {},
   "outputs": [
    {
     "name": "stdout",
     "output_type": "stream",
     "text": [
      "RCV1\n"
     ]
    }
   ],
   "source": [
    "print('RCV1')\n",
    "with open('../data/rcv1_sub.pickle', 'rb') as f:\n",
    "    X, y = pickle.load(f)"
   ]
  },
  {
   "cell_type": "code",
   "execution_count": 9,
   "metadata": {},
   "outputs": [
    {
     "name": "stdout",
     "output_type": "stream",
     "text": [
      "loss: 0.09158923503538069\n",
      "train accuracy: 0.9919987008960864\n",
      "baselines {'epsilon': 0.092934638456563454, 'rcv1': 0.091589235035380689}\n"
     ]
    }
   ],
   "source": [
    "reg = 1 / 677399\n",
    "clf = SGDClassifier(tol=1e-5, loss='log', penalty='l2', alpha=reg)\n",
    "clf.fit(X, y)\n",
    "l = loss(clf, X, y, reg)\n",
    "print(\"loss: {}\".format(l))\n",
    "print(\"train accuracy: {}\".format(clf.score(X, y)))\n",
    "baselines['rcv1'] = l\n",
    "\n",
    "\"\"\" Pickle \"\"\"\n",
    "print('baselines', baselines)"
   ]
  },
  {
   "cell_type": "code",
   "execution_count": 13,
   "metadata": {},
   "outputs": [],
   "source": [
    "with open('../results/sept/baselines/baselines.pickle', 'rb') as f:\n",
    "    bs = pickle.load(f)"
   ]
  },
  {
   "cell_type": "code",
   "execution_count": 14,
   "metadata": {},
   "outputs": [
    {
     "data": {
      "text/plain": [
       "{'RCV1-test': 0.084773803386077096, 'epsilon': 0.28241561280203953}"
      ]
     },
     "execution_count": 14,
     "metadata": {},
     "output_type": "execute_result"
    }
   ],
   "source": [
    "bs"
   ]
  },
  {
   "cell_type": "code",
   "execution_count": null,
   "metadata": {},
   "outputs": [],
   "source": []
  }
 ],
 "metadata": {
  "kernelspec": {
   "display_name": "Python 3",
   "language": "python",
   "name": "python3"
  },
  "language_info": {
   "codemirror_mode": {
    "name": "ipython",
    "version": 3
   },
   "file_extension": ".py",
   "mimetype": "text/x-python",
   "name": "python",
   "nbconvert_exporter": "python",
   "pygments_lexer": "ipython3",
   "version": "3.6.3"
  }
 },
 "nbformat": 4,
 "nbformat_minor": 2
}
